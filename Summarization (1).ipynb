{
 "cells": [
  {
   "cell_type": "code",
   "execution_count": 7,
   "id": "40a8aaa5",
   "metadata": {},
   "outputs": [
    {
     "name": "stdout",
     "output_type": "stream",
     "text": [
      "The philosophy of Epicurus (341–270 B.C.E.)\n",
      "Epicurus was aware that deeply ingrained habits of thought are not easily corrected, and thus he proposed various exercises to assist the novice.\n",
      "It remained to explain how irrational fears arose in the first place: hence the importance of an account of social evolution.\n",
      "He regarded the unacknowledged fear of death and punishment as the primary cause of anxiety among human beings, and anxiety in turn as the source of extreme and irrational desires.\n",
      "The elimination of the fears and corresponding desires would leave people free to pursue the pleasures, both physical and mental, to which they are naturally drawn, and to enjoy the peace of mind that is consequent upon their regularly expected and achieved satisfaction.\n"
     ]
    }
   ],
   "source": [
    "import math\n",
    "import nltk\n",
    "from nltk.tokenize import word_tokenize, sent_tokenize\n",
    "\n",
    "text = \"The philosophy of Epicurus (341–270 B.C.E.) was a complete and interdependent system, involving a view of the goal of human life (happiness, resulting from absence of physical pain and mental disturbance), an empiricist theory of knowledge (sensations, together with the perception of pleasure and pain, are infallible criteria), a description of nature based on atomistic materialism, and a naturalistic account of evolution, from the formation of the world to the emergence of human societies. Epicurus believed that, on the basis of a radical materialism which dispensed with transcendent entities such as the Platonic Ideas or Forms, he could disprove the possibility of the soul’s survival after death, and hence the prospect of punishment in the afterlife. He regarded the unacknowledged fear of death and punishment as the primary cause of anxiety among human beings, and anxiety in turn as the source of extreme and irrational desires. The elimination of the fears and corresponding desires would leave people free to pursue the pleasures, both physical and mental, to which they are naturally drawn, and to enjoy the peace of mind that is consequent upon their regularly expected and achieved satisfaction. It remained to explain how irrational fears arose in the first place: hence the importance of an account of social evolution. Epicurus was aware that deeply ingrained habits of thought are not easily corrected, and thus he proposed various exercises to assist the novice. His system included advice on the proper attitude toward politics (avoid it where possible) and the gods (do not imagine that they concern themselves about human beings and their behavior), the role of sex (dubious), marriage (also dubious) and friendship (essential), reflections on the nature of various meteorological and planetary phenomena, about which it was best to keep an open mind in the absence of decisive verification, and explanations of such processes as gravity (that is, the tendency of objects to fall to the surface of the earth) and magnetism, which posed considerable challenges to the ingenuity of the earlier atomists. Although the overall structure of Epicureanism was designed to hang together and to serve its principal ethical goals, there was room for a great deal of intriguing philosophical argument concerning every aspect of the system, from the speed of atoms in a void to the origin of optical illusions.\"\n",
    "words = word_tokenize(text)\n",
    "sentences = sent_tokenize(text)\n",
    "tf = {}\n",
    "for word in words:\n",
    "    if word not in tf:\n",
    "        tf[word] = 1\n",
    "    else:\n",
    "        tf[word] += 1\n",
    "idf = {}\n",
    "N = 1 \n",
    "for word in tf:\n",
    "    idf[word] = math.log(N / tf[word])\n",
    "\n",
    "tf_idf = {}\n",
    "for word in tf:\n",
    "    tf_idf[word] = tf[word] * idf[word]\n",
    "sent_scores = {}\n",
    "for sentence in sentences:\n",
    "    sent_scores[sentence] = 0\n",
    "    for word in word_tokenize(sentence):\n",
    "        word = word.lower()\n",
    "        if word in tf_idf:\n",
    "            sent_scores[sentence] += tf_idf[word]\n",
    "\n",
    "sorted_sent_scores = sorted(sent_scores.items(), key=lambda x: x[1], reverse=True)\n",
    "summary = []\n",
    "for i in range(5):\n",
    "    summary.append(sorted_sent_scores[i][0])\n",
    "print(\"\\n\".join(summary))"
   ]
  },
  {
   "cell_type": "code",
   "execution_count": null,
   "id": "7b1aa682",
   "metadata": {},
   "outputs": [],
   "source": []
  }
 ],
 "metadata": {
  "kernelspec": {
   "display_name": "Python 3 (ipykernel)",
   "language": "python",
   "name": "python3"
  },
  "language_info": {
   "codemirror_mode": {
    "name": "ipython",
    "version": 3
   },
   "file_extension": ".py",
   "mimetype": "text/x-python",
   "name": "python",
   "nbconvert_exporter": "python",
   "pygments_lexer": "ipython3",
   "version": "3.11.5"
  }
 },
 "nbformat": 4,
 "nbformat_minor": 5
}
